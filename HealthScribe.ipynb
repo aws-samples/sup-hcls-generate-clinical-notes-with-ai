{
 "cells": [
  {
   "cell_type": "markdown",
   "id": "eabd320c-6d39-4181-95c8-ef5e9f89908f",
   "metadata": {},
   "source": [
    "# Generate clinical notes with AI using AWS HealthScribe"
   ]
  },
  {
   "cell_type": "markdown",
   "id": "5589e87d-6ae2-483d-bace-726f9368020a",
   "metadata": {},
   "source": [
    "> *This notebook should work well with the **`Data Science 3.0`** kernel in SageMaker Studio* on an **`ml.t3.medium`** instance.\n",
    "\n",
    "## Introduction\n",
    "\n",
    "This notebook shows how to use AWS HealthScribe Python APIs to invoke the service and how to integrate it with other AWS services."
   ]
  },
  {
   "cell_type": "markdown",
   "id": "e3d3ece0-0484-40d3-85c7-ee45087e872a",
   "metadata": {
    "tags": []
   },
   "source": [
    "## Setup\n",
    "\n",
    "Update boto3 SDK to version **`1.33.0`** or higher. This is the minimum version with support for HealthScribe APIs."
   ]
  },
  {
   "cell_type": "code",
   "execution_count": null,
   "id": "94e5b8f9-1e26-4be8-aa66-8d3a9e61e236",
   "metadata": {
    "tags": []
   },
   "outputs": [],
   "source": [
    "!pip install botocore boto3 --upgrade"
   ]
  },
  {
   "cell_type": "markdown",
   "id": "0323f0ed-6889-430c-b8e8-50839c5b7883",
   "metadata": {},
   "source": [
    "Verify that the correct boto3 version is installed. Expected version is **`1.33.0`** or higher."
   ]
  },
  {
   "cell_type": "code",
   "execution_count": null,
   "id": "496225da-20fd-4151-9846-3d23d19b4bb9",
   "metadata": {
    "tags": []
   },
   "outputs": [],
   "source": [
    "!python3 -c \"import boto3; print(boto3.__version__)\""
   ]
  },
  {
   "cell_type": "markdown",
   "id": "a79a17f4-2e5a-45af-b078-dcf25dd022f9",
   "metadata": {},
   "source": [
    "## 1. Batch Transcription Using Python SDK\n",
    "\n",
    "#### 1.1. Starting an AWS HealthScribe job\n",
    "Invoking **`start_medical_scribe_job`** API to start a transcription job:"
   ]
  },
  {
   "cell_type": "code",
   "execution_count": null,
   "id": "7682cb45-ac03-4813-9a75-3a5b7bdab8d2",
   "metadata": {
    "tags": []
   },
   "outputs": [],
   "source": [
    "import time\n",
    "import boto3\n",
    "import json\n",
    "\n",
    "transcribe = boto3.client('transcribe', 'us-east-1')"
   ]
  },
  {
   "cell_type": "markdown",
   "id": "0c31bb23-8f14-44c8-9496-63cea5e78806",
   "metadata": {},
   "source": [
    "This variable defines the name of the transcription job that will be created in HealthScribe."
   ]
  },
  {
   "cell_type": "code",
   "execution_count": null,
   "id": "697d9555-b064-45fd-8541-f3f0632296d1",
   "metadata": {
    "tags": []
   },
   "outputs": [],
   "source": [
    "job_name = \"LowerBackPain\""
   ]
  },
  {
   "cell_type": "markdown",
   "id": "39162c19-eb04-4b4c-a158-3fa8655333c1",
   "metadata": {},
   "source": [
    "The s3_input_uri variable defines the S3 URI where the input audio is located. In the cell below, replace the following constants with the appropriate details for your environment:\n",
    "- **`[S3_BUCKET_NAME]`**: input S3 bucket URI\n",
    "- **`[OBJECT_NAME]`**: file name including the extension (e.g. knee-consultation.m4a)\n",
    "- **`[IAM_ROLE]`**: arn of the IAM role that will be used by HealthScribe."
   ]
  },
  {
   "cell_type": "code",
   "execution_count": null,
   "id": "a00d77a2-ac46-4e75-93fe-570dce45037e",
   "metadata": {
    "tags": []
   },
   "outputs": [],
   "source": [
    "s3_input_uri = \"s3://[S3_BUCKET_NAME]/[OBJECT_NAME]\"\n",
    "\n",
    "output_bucket_name = \"[S3_BUCKET_NAME]\"\n",
    "\n",
    "response = transcribe.start_medical_scribe_job(\n",
    "    MedicalScribeJobName = job_name,\n",
    "    Media = {\n",
    "      'MediaFileUri': s3_input_uri\n",
    "    },\n",
    "    OutputBucketName = output_bucket_name,\n",
    "    DataAccessRoleArn = '[IAM_ROLE]',\n",
    "    Settings = {\n",
    "      'ShowSpeakerLabels': True,\n",
    "      'MaxSpeakerLabels': 2,\n",
    "      'ChannelIdentification': False\n",
    "    }\n",
    ")\n",
    "print(response)"
   ]
  },
  {
   "cell_type": "markdown",
   "id": "988c4f54-ceef-4e9f-904d-9affa2b8e59f",
   "metadata": {
    "tags": []
   },
   "source": [
    "#### 1.2. Checking job status\n",
    "\n",
    "The code below will invoke HealthScribe's **`get_medical_scribe_job`** API to retrieve the status of the job we started in the previous step. If the status is not Completed or Failed, the code waits 5 seconds to retry until the job reaches a final state."
   ]
  },
  {
   "cell_type": "code",
   "execution_count": null,
   "id": "770f35f2-0d64-44f9-b15b-a14fcac55406",
   "metadata": {},
   "outputs": [],
   "source": [
    "while True:\n",
    "    status = transcribe.get_medical_scribe_job(MedicalScribeJobName = job_name)\n",
    "    if status['MedicalScribeJob']['MedicalScribeJobStatus'] in ['COMPLETED', 'FAILED']:\n",
    "        break\n",
    "    print(\"Not ready yet...\")\n",
    "    time.sleep(5)\n",
    "   \n",
    "print(\"Job status: \" + status.get('MedicalScribeJob').get('MedicalScribeJobStatus'))\n",
    "\n",
    "start_time = status.get('MedicalScribeJob').get('StartTime')\n",
    "completion_time = status.get('MedicalScribeJob').get('CompletionTime')\n",
    "diff = completion_time - start_time\n",
    "\n",
    "print(\"Job duration: \" + str(diff))\n",
    "print(\"Transcription file: \" + status.get('MedicalScribeJob').get('MedicalScribeOutput').get('TranscriptFileUri'))\n",
    "print(\"Summary file: \" + status.get('MedicalScribeJob').get('MedicalScribeOutput').get('ClinicalDocumentUri'))"
   ]
  },
  {
   "cell_type": "markdown",
   "id": "eefabaca-dd93-444f-8316-1589eda7d61d",
   "metadata": {},
   "source": [
    "#### 1.3. Analysing the scribe results\n",
    "The code below will download the **`summary.json`** file generated by HealthScribe, will parse the file and extract the treatment plan."
   ]
  },
  {
   "cell_type": "code",
   "execution_count": null,
   "id": "cab07c9a-32f2-4479-874f-f6263267d788",
   "metadata": {
    "tags": []
   },
   "outputs": [],
   "source": [
    "s3 = boto3.client('s3', 'us-east-1')\n",
    "\n",
    "bucket = output_bucket_name\n",
    "transcription_file = job_name + \"/transcript.json\"\n",
    "summary_file = job_name + \"/summary.json\"\n",
    "\n",
    "obj = s3.get_object(Bucket=bucket, Key=summary_file)\n",
    "summary_json = json.loads(obj['Body'].read())\n",
    "plan_list = summary_json.get(\"ClinicalDocumentation\").get(\"Sections\")[5].get(\"Summary\")\n",
    "\n",
    "print(\"Plan:\")\n",
    "plan = \"\"\n",
    "for item in plan_list:\n",
    "    plan = plan + \"\\n\" + item.get(\"SummarizedSegment\")\n",
    "print(plan)"
   ]
  },
  {
   "cell_type": "markdown",
   "id": "98bb9742-f295-4f81-8e54-7acc0cca4dab",
   "metadata": {},
   "source": [
    "Store the plan as environment variable to be used later:"
   ]
  },
  {
   "cell_type": "code",
   "execution_count": null,
   "id": "f381233a-9179-4324-9b86-0c9fa8d22a0d",
   "metadata": {
    "tags": []
   },
   "outputs": [],
   "source": [
    "# save plan to be used later with Bedrock in a different notebook\n",
    "%store plan"
   ]
  },
  {
   "cell_type": "markdown",
   "id": "03593de0-fbbb-41fc-b096-944f47ca0d42",
   "metadata": {
    "tags": []
   },
   "source": [
    "---"
   ]
  },
  {
   "cell_type": "markdown",
   "id": "7974920e-0ff8-4fd9-815d-fe6ac1fc02ea",
   "metadata": {},
   "source": [
    "## 2. Combining HealthScribe with Comprehend Medical\n",
    "\n",
    "Call RxNorm ontology in Comprehend Medical with the raw content of the transcript."
   ]
  },
  {
   "cell_type": "markdown",
   "id": "afac8c4d-ccdd-4a33-a5d9-638c78b23e50",
   "metadata": {},
   "source": [
    "#### 3.1. RxNorm linking\n",
    "Amazon Comprehend Medical lists the top potentially matching RxCUIs for each medication that it detects in descending order by confidence score. Use the RxCUI codes for downstream analysis that is not possible with unstructured text. Related information such as strength, frequency, dose, dose form, and route of administration are listed as attributes in JSON format."
   ]
  },
  {
   "cell_type": "code",
   "execution_count": null,
   "id": "a2d23689-51c2-42f1-927d-83ed45b1e22e",
   "metadata": {},
   "outputs": [],
   "source": [
    "cm_client = boto3.client(service_name='comprehendmedical', region_name='us-east-1')\n",
    "\n",
    "result = cm_client.infer_rx_norm(Text= plan)\n",
    "entities = result['Entities'];\n",
    "print(json.dumps(entities, indent=2))"
   ]
  },
  {
   "cell_type": "markdown",
   "id": "a5a79a13-9e75-4002-ad6c-8a9b7811d8da",
   "metadata": {},
   "source": [
    "#### 3.2. ICD-10-CM linking\n",
    "When medical conditions are detected, InferICD10CM returns the matching ICD-10-CM codes and descriptions. The detected conditions are listed in descending order of confidence. The scores indicate the confidence in the accuracy of the entities matched to the concepts found in the text. Related information such as family history, signs, symptoms, and negation are recognized as traits. Additional information such as anatomical designations and acuity are listed as attributes."
   ]
  },
  {
   "cell_type": "code",
   "execution_count": null,
   "id": "edcecd51-9579-42c9-a26e-0588c4ae966b",
   "metadata": {
    "tags": []
   },
   "outputs": [],
   "source": [
    "result = cm_client.infer_icd10_cm(Text= plan)\n",
    "entities = result['Entities'];\n",
    "print(json.dumps(entities, indent=2))"
   ]
  },
  {
   "cell_type": "code",
   "execution_count": null,
   "id": "c622036a-4e95-4f31-b1a6-1b5ba44822e3",
   "metadata": {},
   "outputs": [],
   "source": []
  }
 ],
 "metadata": {
  "availableInstances": [
   {
    "_defaultOrder": 0,
    "_isFastLaunch": true,
    "category": "General purpose",
    "gpuNum": 0,
    "hideHardwareSpecs": false,
    "memoryGiB": 4,
    "name": "ml.t3.medium",
    "vcpuNum": 2
   },
   {
    "_defaultOrder": 1,
    "_isFastLaunch": false,
    "category": "General purpose",
    "gpuNum": 0,
    "hideHardwareSpecs": false,
    "memoryGiB": 8,
    "name": "ml.t3.large",
    "vcpuNum": 2
   },
   {
    "_defaultOrder": 2,
    "_isFastLaunch": false,
    "category": "General purpose",
    "gpuNum": 0,
    "hideHardwareSpecs": false,
    "memoryGiB": 16,
    "name": "ml.t3.xlarge",
    "vcpuNum": 4
   },
   {
    "_defaultOrder": 3,
    "_isFastLaunch": false,
    "category": "General purpose",
    "gpuNum": 0,
    "hideHardwareSpecs": false,
    "memoryGiB": 32,
    "name": "ml.t3.2xlarge",
    "vcpuNum": 8
   },
   {
    "_defaultOrder": 4,
    "_isFastLaunch": true,
    "category": "General purpose",
    "gpuNum": 0,
    "hideHardwareSpecs": false,
    "memoryGiB": 8,
    "name": "ml.m5.large",
    "vcpuNum": 2
   },
   {
    "_defaultOrder": 5,
    "_isFastLaunch": false,
    "category": "General purpose",
    "gpuNum": 0,
    "hideHardwareSpecs": false,
    "memoryGiB": 16,
    "name": "ml.m5.xlarge",
    "vcpuNum": 4
   },
   {
    "_defaultOrder": 6,
    "_isFastLaunch": false,
    "category": "General purpose",
    "gpuNum": 0,
    "hideHardwareSpecs": false,
    "memoryGiB": 32,
    "name": "ml.m5.2xlarge",
    "vcpuNum": 8
   },
   {
    "_defaultOrder": 7,
    "_isFastLaunch": false,
    "category": "General purpose",
    "gpuNum": 0,
    "hideHardwareSpecs": false,
    "memoryGiB": 64,
    "name": "ml.m5.4xlarge",
    "vcpuNum": 16
   },
   {
    "_defaultOrder": 8,
    "_isFastLaunch": false,
    "category": "General purpose",
    "gpuNum": 0,
    "hideHardwareSpecs": false,
    "memoryGiB": 128,
    "name": "ml.m5.8xlarge",
    "vcpuNum": 32
   },
   {
    "_defaultOrder": 9,
    "_isFastLaunch": false,
    "category": "General purpose",
    "gpuNum": 0,
    "hideHardwareSpecs": false,
    "memoryGiB": 192,
    "name": "ml.m5.12xlarge",
    "vcpuNum": 48
   },
   {
    "_defaultOrder": 10,
    "_isFastLaunch": false,
    "category": "General purpose",
    "gpuNum": 0,
    "hideHardwareSpecs": false,
    "memoryGiB": 256,
    "name": "ml.m5.16xlarge",
    "vcpuNum": 64
   },
   {
    "_defaultOrder": 11,
    "_isFastLaunch": false,
    "category": "General purpose",
    "gpuNum": 0,
    "hideHardwareSpecs": false,
    "memoryGiB": 384,
    "name": "ml.m5.24xlarge",
    "vcpuNum": 96
   },
   {
    "_defaultOrder": 12,
    "_isFastLaunch": false,
    "category": "General purpose",
    "gpuNum": 0,
    "hideHardwareSpecs": false,
    "memoryGiB": 8,
    "name": "ml.m5d.large",
    "vcpuNum": 2
   },
   {
    "_defaultOrder": 13,
    "_isFastLaunch": false,
    "category": "General purpose",
    "gpuNum": 0,
    "hideHardwareSpecs": false,
    "memoryGiB": 16,
    "name": "ml.m5d.xlarge",
    "vcpuNum": 4
   },
   {
    "_defaultOrder": 14,
    "_isFastLaunch": false,
    "category": "General purpose",
    "gpuNum": 0,
    "hideHardwareSpecs": false,
    "memoryGiB": 32,
    "name": "ml.m5d.2xlarge",
    "vcpuNum": 8
   },
   {
    "_defaultOrder": 15,
    "_isFastLaunch": false,
    "category": "General purpose",
    "gpuNum": 0,
    "hideHardwareSpecs": false,
    "memoryGiB": 64,
    "name": "ml.m5d.4xlarge",
    "vcpuNum": 16
   },
   {
    "_defaultOrder": 16,
    "_isFastLaunch": false,
    "category": "General purpose",
    "gpuNum": 0,
    "hideHardwareSpecs": false,
    "memoryGiB": 128,
    "name": "ml.m5d.8xlarge",
    "vcpuNum": 32
   },
   {
    "_defaultOrder": 17,
    "_isFastLaunch": false,
    "category": "General purpose",
    "gpuNum": 0,
    "hideHardwareSpecs": false,
    "memoryGiB": 192,
    "name": "ml.m5d.12xlarge",
    "vcpuNum": 48
   },
   {
    "_defaultOrder": 18,
    "_isFastLaunch": false,
    "category": "General purpose",
    "gpuNum": 0,
    "hideHardwareSpecs": false,
    "memoryGiB": 256,
    "name": "ml.m5d.16xlarge",
    "vcpuNum": 64
   },
   {
    "_defaultOrder": 19,
    "_isFastLaunch": false,
    "category": "General purpose",
    "gpuNum": 0,
    "hideHardwareSpecs": false,
    "memoryGiB": 384,
    "name": "ml.m5d.24xlarge",
    "vcpuNum": 96
   },
   {
    "_defaultOrder": 20,
    "_isFastLaunch": false,
    "category": "General purpose",
    "gpuNum": 0,
    "hideHardwareSpecs": true,
    "memoryGiB": 0,
    "name": "ml.geospatial.interactive",
    "supportedImageNames": [
     "sagemaker-geospatial-v1-0"
    ],
    "vcpuNum": 0
   },
   {
    "_defaultOrder": 21,
    "_isFastLaunch": true,
    "category": "Compute optimized",
    "gpuNum": 0,
    "hideHardwareSpecs": false,
    "memoryGiB": 4,
    "name": "ml.c5.large",
    "vcpuNum": 2
   },
   {
    "_defaultOrder": 22,
    "_isFastLaunch": false,
    "category": "Compute optimized",
    "gpuNum": 0,
    "hideHardwareSpecs": false,
    "memoryGiB": 8,
    "name": "ml.c5.xlarge",
    "vcpuNum": 4
   },
   {
    "_defaultOrder": 23,
    "_isFastLaunch": false,
    "category": "Compute optimized",
    "gpuNum": 0,
    "hideHardwareSpecs": false,
    "memoryGiB": 16,
    "name": "ml.c5.2xlarge",
    "vcpuNum": 8
   },
   {
    "_defaultOrder": 24,
    "_isFastLaunch": false,
    "category": "Compute optimized",
    "gpuNum": 0,
    "hideHardwareSpecs": false,
    "memoryGiB": 32,
    "name": "ml.c5.4xlarge",
    "vcpuNum": 16
   },
   {
    "_defaultOrder": 25,
    "_isFastLaunch": false,
    "category": "Compute optimized",
    "gpuNum": 0,
    "hideHardwareSpecs": false,
    "memoryGiB": 72,
    "name": "ml.c5.9xlarge",
    "vcpuNum": 36
   },
   {
    "_defaultOrder": 26,
    "_isFastLaunch": false,
    "category": "Compute optimized",
    "gpuNum": 0,
    "hideHardwareSpecs": false,
    "memoryGiB": 96,
    "name": "ml.c5.12xlarge",
    "vcpuNum": 48
   },
   {
    "_defaultOrder": 27,
    "_isFastLaunch": false,
    "category": "Compute optimized",
    "gpuNum": 0,
    "hideHardwareSpecs": false,
    "memoryGiB": 144,
    "name": "ml.c5.18xlarge",
    "vcpuNum": 72
   },
   {
    "_defaultOrder": 28,
    "_isFastLaunch": false,
    "category": "Compute optimized",
    "gpuNum": 0,
    "hideHardwareSpecs": false,
    "memoryGiB": 192,
    "name": "ml.c5.24xlarge",
    "vcpuNum": 96
   },
   {
    "_defaultOrder": 29,
    "_isFastLaunch": true,
    "category": "Accelerated computing",
    "gpuNum": 1,
    "hideHardwareSpecs": false,
    "memoryGiB": 16,
    "name": "ml.g4dn.xlarge",
    "vcpuNum": 4
   },
   {
    "_defaultOrder": 30,
    "_isFastLaunch": false,
    "category": "Accelerated computing",
    "gpuNum": 1,
    "hideHardwareSpecs": false,
    "memoryGiB": 32,
    "name": "ml.g4dn.2xlarge",
    "vcpuNum": 8
   },
   {
    "_defaultOrder": 31,
    "_isFastLaunch": false,
    "category": "Accelerated computing",
    "gpuNum": 1,
    "hideHardwareSpecs": false,
    "memoryGiB": 64,
    "name": "ml.g4dn.4xlarge",
    "vcpuNum": 16
   },
   {
    "_defaultOrder": 32,
    "_isFastLaunch": false,
    "category": "Accelerated computing",
    "gpuNum": 1,
    "hideHardwareSpecs": false,
    "memoryGiB": 128,
    "name": "ml.g4dn.8xlarge",
    "vcpuNum": 32
   },
   {
    "_defaultOrder": 33,
    "_isFastLaunch": false,
    "category": "Accelerated computing",
    "gpuNum": 4,
    "hideHardwareSpecs": false,
    "memoryGiB": 192,
    "name": "ml.g4dn.12xlarge",
    "vcpuNum": 48
   },
   {
    "_defaultOrder": 34,
    "_isFastLaunch": false,
    "category": "Accelerated computing",
    "gpuNum": 1,
    "hideHardwareSpecs": false,
    "memoryGiB": 256,
    "name": "ml.g4dn.16xlarge",
    "vcpuNum": 64
   },
   {
    "_defaultOrder": 35,
    "_isFastLaunch": false,
    "category": "Accelerated computing",
    "gpuNum": 1,
    "hideHardwareSpecs": false,
    "memoryGiB": 61,
    "name": "ml.p3.2xlarge",
    "vcpuNum": 8
   },
   {
    "_defaultOrder": 36,
    "_isFastLaunch": false,
    "category": "Accelerated computing",
    "gpuNum": 4,
    "hideHardwareSpecs": false,
    "memoryGiB": 244,
    "name": "ml.p3.8xlarge",
    "vcpuNum": 32
   },
   {
    "_defaultOrder": 37,
    "_isFastLaunch": false,
    "category": "Accelerated computing",
    "gpuNum": 8,
    "hideHardwareSpecs": false,
    "memoryGiB": 488,
    "name": "ml.p3.16xlarge",
    "vcpuNum": 64
   },
   {
    "_defaultOrder": 38,
    "_isFastLaunch": false,
    "category": "Accelerated computing",
    "gpuNum": 8,
    "hideHardwareSpecs": false,
    "memoryGiB": 768,
    "name": "ml.p3dn.24xlarge",
    "vcpuNum": 96
   },
   {
    "_defaultOrder": 39,
    "_isFastLaunch": false,
    "category": "Memory Optimized",
    "gpuNum": 0,
    "hideHardwareSpecs": false,
    "memoryGiB": 16,
    "name": "ml.r5.large",
    "vcpuNum": 2
   },
   {
    "_defaultOrder": 40,
    "_isFastLaunch": false,
    "category": "Memory Optimized",
    "gpuNum": 0,
    "hideHardwareSpecs": false,
    "memoryGiB": 32,
    "name": "ml.r5.xlarge",
    "vcpuNum": 4
   },
   {
    "_defaultOrder": 41,
    "_isFastLaunch": false,
    "category": "Memory Optimized",
    "gpuNum": 0,
    "hideHardwareSpecs": false,
    "memoryGiB": 64,
    "name": "ml.r5.2xlarge",
    "vcpuNum": 8
   },
   {
    "_defaultOrder": 42,
    "_isFastLaunch": false,
    "category": "Memory Optimized",
    "gpuNum": 0,
    "hideHardwareSpecs": false,
    "memoryGiB": 128,
    "name": "ml.r5.4xlarge",
    "vcpuNum": 16
   },
   {
    "_defaultOrder": 43,
    "_isFastLaunch": false,
    "category": "Memory Optimized",
    "gpuNum": 0,
    "hideHardwareSpecs": false,
    "memoryGiB": 256,
    "name": "ml.r5.8xlarge",
    "vcpuNum": 32
   },
   {
    "_defaultOrder": 44,
    "_isFastLaunch": false,
    "category": "Memory Optimized",
    "gpuNum": 0,
    "hideHardwareSpecs": false,
    "memoryGiB": 384,
    "name": "ml.r5.12xlarge",
    "vcpuNum": 48
   },
   {
    "_defaultOrder": 45,
    "_isFastLaunch": false,
    "category": "Memory Optimized",
    "gpuNum": 0,
    "hideHardwareSpecs": false,
    "memoryGiB": 512,
    "name": "ml.r5.16xlarge",
    "vcpuNum": 64
   },
   {
    "_defaultOrder": 46,
    "_isFastLaunch": false,
    "category": "Memory Optimized",
    "gpuNum": 0,
    "hideHardwareSpecs": false,
    "memoryGiB": 768,
    "name": "ml.r5.24xlarge",
    "vcpuNum": 96
   },
   {
    "_defaultOrder": 47,
    "_isFastLaunch": false,
    "category": "Accelerated computing",
    "gpuNum": 1,
    "hideHardwareSpecs": false,
    "memoryGiB": 16,
    "name": "ml.g5.xlarge",
    "vcpuNum": 4
   },
   {
    "_defaultOrder": 48,
    "_isFastLaunch": false,
    "category": "Accelerated computing",
    "gpuNum": 1,
    "hideHardwareSpecs": false,
    "memoryGiB": 32,
    "name": "ml.g5.2xlarge",
    "vcpuNum": 8
   },
   {
    "_defaultOrder": 49,
    "_isFastLaunch": false,
    "category": "Accelerated computing",
    "gpuNum": 1,
    "hideHardwareSpecs": false,
    "memoryGiB": 64,
    "name": "ml.g5.4xlarge",
    "vcpuNum": 16
   },
   {
    "_defaultOrder": 50,
    "_isFastLaunch": false,
    "category": "Accelerated computing",
    "gpuNum": 1,
    "hideHardwareSpecs": false,
    "memoryGiB": 128,
    "name": "ml.g5.8xlarge",
    "vcpuNum": 32
   },
   {
    "_defaultOrder": 51,
    "_isFastLaunch": false,
    "category": "Accelerated computing",
    "gpuNum": 1,
    "hideHardwareSpecs": false,
    "memoryGiB": 256,
    "name": "ml.g5.16xlarge",
    "vcpuNum": 64
   },
   {
    "_defaultOrder": 52,
    "_isFastLaunch": false,
    "category": "Accelerated computing",
    "gpuNum": 4,
    "hideHardwareSpecs": false,
    "memoryGiB": 192,
    "name": "ml.g5.12xlarge",
    "vcpuNum": 48
   },
   {
    "_defaultOrder": 53,
    "_isFastLaunch": false,
    "category": "Accelerated computing",
    "gpuNum": 4,
    "hideHardwareSpecs": false,
    "memoryGiB": 384,
    "name": "ml.g5.24xlarge",
    "vcpuNum": 96
   },
   {
    "_defaultOrder": 54,
    "_isFastLaunch": false,
    "category": "Accelerated computing",
    "gpuNum": 8,
    "hideHardwareSpecs": false,
    "memoryGiB": 768,
    "name": "ml.g5.48xlarge",
    "vcpuNum": 192
   },
   {
    "_defaultOrder": 55,
    "_isFastLaunch": false,
    "category": "Accelerated computing",
    "gpuNum": 8,
    "hideHardwareSpecs": false,
    "memoryGiB": 1152,
    "name": "ml.p4d.24xlarge",
    "vcpuNum": 96
   },
   {
    "_defaultOrder": 56,
    "_isFastLaunch": false,
    "category": "Accelerated computing",
    "gpuNum": 8,
    "hideHardwareSpecs": false,
    "memoryGiB": 1152,
    "name": "ml.p4de.24xlarge",
    "vcpuNum": 96
   }
  ],
  "instance_type": "ml.t3.large",
  "kernelspec": {
   "display_name": "Python 3 (Data Science 3.0)",
   "language": "python",
   "name": "python3__SAGEMAKER_INTERNAL__arn:aws:sagemaker:us-east-1:081325390199:image/sagemaker-data-science-310-v1"
  },
  "language_info": {
   "codemirror_mode": {
    "name": "ipython",
    "version": 3
   },
   "file_extension": ".py",
   "mimetype": "text/x-python",
   "name": "python",
   "nbconvert_exporter": "python",
   "pygments_lexer": "ipython3",
   "version": "3.10.6"
  }
 },
 "nbformat": 4,
 "nbformat_minor": 5
}
